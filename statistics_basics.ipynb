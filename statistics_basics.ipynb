{
  "nbformat": 4,
  "nbformat_minor": 0,
  "metadata": {
    "colab": {
      "provenance": []
    },
    "kernelspec": {
      "name": "python3",
      "display_name": "Python 3"
    },
    "language_info": {
      "name": "python"
    }
  },
  "cells": [
    {
      "cell_type": "markdown",
      "source": [
        "THEORY ANSWERS\n",
        "\n",
        "1) What is statistics, and why is it important\n",
        "Ans:-statistics is a  mathematical science including methods of collecting organizing and analyze data in such a way that meaningfull conclusion can be drawn from them.\n",
        "\n",
        "2) What are the two main types of statistics\n",
        "Ans:-descriptive and inferential\n",
        "\n",
        "3)What are descriptive statistics\n",
        "Ans:-talk about complete population\n",
        "\n",
        "4)What is inferential statistic\n",
        "Ans:-Method of collecting organizing and analyse data to get meaningful insights\n",
        "\n",
        "5)What is sampling in statistics\n",
        "Ans:-The process of selecting a subset of individuals or data points from a larger population to study and draw conclusions about the entire population.\n",
        "\n",
        "6) What are the different types of sampling methods\n",
        "Ans:-simple random sampling\n",
        "      stratified sampling\n",
        "      cluster sampling\n",
        "      systematic sampling\n",
        "\n",
        "7)What is the difference between random and non-random sampling\n",
        "Ans:-in random sampling the data is choosen randomly from the population and each data have equal chance of being selected\n",
        " in non random sampling, data is not selected randomly selection is based on some criteria\n",
        "\n",
        " 8)Define and give examples of qualitative and quantitative data\n",
        " Ans:-Qualitative data describes qualities or characteristics that can't be measured numerically, while quantitative data describes quantities that can be measured numerically.\n",
        "\n",
        " 9)What are the different types of data in statistics\n",
        " Ans:-quantitative ans qualitative\n",
        "\n",
        " 10)Explain nominal, ordinal, interval, and ratio levels of measurement\n",
        " Ans:-nominal:-Nominal data is categorical, ordinal data can be ranked, interval data has equal spacing between values, and ratio data has a true zero point.\n",
        "\n",
        " 11)What is the measure of central tendency\n",
        " Ans:-a single value that attempts to describe a set of data by identifying the central position within that set of data\n",
        "\n",
        " 12)Define mean, median, and mode\n",
        " Ans:-mean:-summing all obseravtions by no of observations\n",
        "      median:- physical mid point of data\n",
        "      mode:-maximun frequency from data\n",
        "\n",
        "13)What is the significance of the measure of central tendency\n",
        "Ans:-Measures of central tendency, like mean, median, and mode, are crucial in statistics because they provide a single, representative value to describe a dataset. They help condense large datasets into a more manageable form, facilitating understanding and comparison of different datasets.\n",
        "\n",
        "14)5 What is variance, and how is it calculated\n",
        "Ans:-the average of squared difference from the mean value\n",
        "\n",
        "15)What is standard deviation, and why is it important\n",
        "Ans:-it is a measure of how the spread of data is .\n",
        "s=square root of variance\n",
        "\n",
        "16)Define and explain the term range in statistics\n",
        "Ans:-range is the difference between maximun and minimun\n",
        "\n",
        "17) What is the difference between variance and standard deviation\n",
        "Ans:-Variance and standard deviation are both measures of data dispersion, but standard deviation is the square root of the variance\n",
        "\n",
        "18)What is skewness in a dataset\n",
        "Ans:-measure of symmetricity\n",
        "\n",
        "19) What does it mean if a dataset is positively or negatively skewed\n",
        "Ans:-positively skewed:- most  of the data lie on right side.\n",
        "    negatively skewed:- most  of the data lie on negative side.\n",
        "\n",
        "20) Define and explain kurtosis\n",
        "Ans:-Kurtosis is a statistical measure that describes the tailedness of a probability distribution.\n",
        "\n",
        "21)What is the purpose of covariance\n",
        "Ans:-The covariance equation is used to determine the direction of the relationship between two variables\n",
        "\n",
        "22)What does correlation measure in statistics\n",
        "Ans:-In statistics, correlation measures the strength and direction of a relationship between two variables\n",
        "\n",
        "23)What is the difference between covariance and correlation\n",
        "Ans:-Covariance indicates the direction of the relationship (positive or negative), while correlation also indicates the strength of that relationship and is standardized to a range between -1 and +1.\n",
        "\n",
        "24)What are some real-world applications of statistics?\n",
        "Ans:-buisness healthcare finance education sports\n",
        "\n",
        "\n"
      ],
      "metadata": {
        "id": "pHQXn31VYVB8"
      }
    },
    {
      "cell_type": "markdown",
      "source": [
        "PRACTICAL QUESTIONS\n",
        "\n",
        "1) How do you calculate the mean, median, and mode of a dataset"
      ],
      "metadata": {
        "id": "mUkNYwxBjP_W"
      }
    },
    {
      "cell_type": "code",
      "source": [
        "import numpy as np\n",
        "dataset=[1,2,3,5,5,7,7,7,10,9,3]\n",
        "np.mean(dataset)"
      ],
      "metadata": {
        "colab": {
          "base_uri": "https://localhost:8080/"
        },
        "id": "bfrvFTCXjW7g",
        "outputId": "9fd4ab7a-9f7e-45a9-9359-4cb5da27fc67"
      },
      "execution_count": 1,
      "outputs": [
        {
          "output_type": "execute_result",
          "data": {
            "text/plain": [
              "np.float64(5.363636363636363)"
            ]
          },
          "metadata": {},
          "execution_count": 1
        }
      ]
    },
    {
      "cell_type": "code",
      "source": [
        "np.median(dataset)"
      ],
      "metadata": {
        "colab": {
          "base_uri": "https://localhost:8080/"
        },
        "id": "6ysTFGoejjWH",
        "outputId": "31c13fb6-f116-4886-a155-fd7172aae9d2"
      },
      "execution_count": 2,
      "outputs": [
        {
          "output_type": "execute_result",
          "data": {
            "text/plain": [
              "np.float64(5.0)"
            ]
          },
          "metadata": {},
          "execution_count": 2
        }
      ]
    },
    {
      "cell_type": "code",
      "source": [
        "import statistics\n",
        "dataset=[1,2,3,5,5,7,7,7,10,9,3]\n",
        "statistics.mode(dataset)"
      ],
      "metadata": {
        "colab": {
          "base_uri": "https://localhost:8080/"
        },
        "id": "YSHnTchwjzJf",
        "outputId": "0bb0d43b-37af-4d3a-df37-0956aa79cbc0"
      },
      "execution_count": 4,
      "outputs": [
        {
          "output_type": "execute_result",
          "data": {
            "text/plain": [
              "7"
            ]
          },
          "metadata": {},
          "execution_count": 4
        }
      ]
    },
    {
      "cell_type": "markdown",
      "source": [
        "2)Write a Python program to compute the variance and standard deviation of a dataset\n"
      ],
      "metadata": {
        "id": "LOMlYhzckFO_"
      }
    },
    {
      "cell_type": "code",
      "source": [
        "import numpy as np\n",
        "dataset=[1,2,3,5,5,7,7,7,10,9,3]\n",
        "np.var(dataset)\n",
        "\n"
      ],
      "metadata": {
        "colab": {
          "base_uri": "https://localhost:8080/"
        },
        "id": "PLeChDU8kIdd",
        "outputId": "ed97412a-3e50-4611-dd13-f72d98d8c369"
      },
      "execution_count": 9,
      "outputs": [
        {
          "output_type": "execute_result",
          "data": {
            "text/plain": [
              "np.float64(7.685950413223139)"
            ]
          },
          "metadata": {},
          "execution_count": 9
        }
      ]
    },
    {
      "cell_type": "code",
      "source": [
        "import numpy as np\n",
        "dataset=[1,2,3,5,5,7,7,7,10,9,3]\n",
        "np.std(dataset)"
      ],
      "metadata": {
        "colab": {
          "base_uri": "https://localhost:8080/"
        },
        "id": "lhiGORYvkdzU",
        "outputId": "328c7202-b470-4826-ca65-d98285032356"
      },
      "execution_count": 11,
      "outputs": [
        {
          "output_type": "execute_result",
          "data": {
            "text/plain": [
              "np.float64(2.7723546694503463)"
            ]
          },
          "metadata": {},
          "execution_count": 11
        }
      ]
    },
    {
      "cell_type": "markdown",
      "source": [
        "3)Create a dataset and classify it into nominal, ordinal, interval, and ratio types"
      ],
      "metadata": {
        "id": "rXNcPoUOlK0L"
      }
    },
    {
      "cell_type": "code",
      "source": [
        "# Nominal Data\n",
        "nominal_data = [\"Red\", \"Blue\", \"Green\", \"Blue\", \"Yellow\"]\n",
        "print(\"Nominal Data:\", nominal_data)\n",
        "\n",
        "# Ordinal Data\n",
        "ordinal_data = [\"Small\", \"Medium\", \"Large\", \"Medium\", \"Small\"]\n",
        "print(\"Ordinal Data:\", ordinal_data)\n",
        "\n",
        "# Interval Data\n",
        "interval_data = [25, 30, 27, 32, 28]\n",
        "print(\"Interval Data:\", interval_data)\n",
        "\n",
        "# Ratio Data\n",
        "ratio_data = [10, 20, 30, 40, 50]\n",
        "print(\"Ratio Data:\", ratio_data)"
      ],
      "metadata": {
        "colab": {
          "base_uri": "https://localhost:8080/"
        },
        "id": "drqXqAc9kx0E",
        "outputId": "54922bbd-ac31-4493-97f3-6615c2893431"
      },
      "execution_count": 12,
      "outputs": [
        {
          "output_type": "stream",
          "name": "stdout",
          "text": [
            "Nominal Data: ['Red', 'Blue', 'Green', 'Blue', 'Yellow']\n",
            "Ordinal Data: ['Small', 'Medium', 'Large', 'Medium', 'Small']\n",
            "Interval Data: [25, 30, 27, 32, 28]\n",
            "Ratio Data: [10, 20, 30, 40, 50]\n"
          ]
        }
      ]
    },
    {
      "cell_type": "markdown",
      "source": [
        "4)Implement sampling techniques like random sampling and stratified sampling"
      ],
      "metadata": {
        "id": "6un0bjZxlYH9"
      }
    },
    {
      "cell_type": "code",
      "source": [
        "import random\n",
        "\n",
        "def random_sampling(population, sample_size):\n",
        "    return random.sample(population, sample_size)\n",
        "\n",
        "def stratified_sampling(population, strata_sizes):\n",
        "    sample = []\n",
        "    for stratum, size in strata_sizes.items():\n",
        "        stratum_population = [item for item in population if item[0] == stratum]\n",
        "        sample.extend(random.sample(stratum_population, size))\n",
        "    return sample\n",
        "\n",
        "# Example Usage\n",
        "population = [(1, 'a'), (1, 'b'), (2, 'c'), (2, 'd'), (2, 'e'), (3, 'f')]\n",
        "strata_sizes = {1: 1, 2: 2, 3: 0}\n",
        "\n",
        "random_sample = random_sampling(population, 2)\n",
        "print(\"Random Sample:\", random_sample)\n",
        "\n",
        "stratified_sample = stratified_sampling(population, strata_sizes)\n",
        "print(\"Stratified Sample:\", stratified_sample)"
      ],
      "metadata": {
        "colab": {
          "base_uri": "https://localhost:8080/"
        },
        "id": "o_ZCh3dulako",
        "outputId": "ef3bc823-b5d6-46b1-8f6a-3889d4244b07"
      },
      "execution_count": 13,
      "outputs": [
        {
          "output_type": "stream",
          "name": "stdout",
          "text": [
            "Random Sample: [(1, 'b'), (2, 'e')]\n",
            "Stratified Sample: [(1, 'a'), (2, 'd'), (2, 'c')]\n"
          ]
        }
      ]
    },
    {
      "cell_type": "markdown",
      "source": [
        "5) Write a Python function to calculate the range of a dataset"
      ],
      "metadata": {
        "id": "3fjiYEV7ltA4"
      }
    },
    {
      "cell_type": "code",
      "source": [
        "import numpy as np\n",
        "dataset=[1,2,3,5,5,7,7,7,10,9,3]\n",
        "data_range = np.max(dataset) - np.min(dataset)\n",
        "print(\"Range:\", data_range)"
      ],
      "metadata": {
        "colab": {
          "base_uri": "https://localhost:8080/"
        },
        "id": "uT456_w6lu1P",
        "outputId": "4fe3923a-8a69-45c8-d3c5-e8ce60d68ddc"
      },
      "execution_count": 15,
      "outputs": [
        {
          "output_type": "stream",
          "name": "stdout",
          "text": [
            "Range: 9\n"
          ]
        }
      ]
    },
    {
      "cell_type": "markdown",
      "source": [
        "6) Create a dataset and plot its histogram to visualize skewness"
      ],
      "metadata": {
        "id": "iZyxcyhlmDZj"
      }
    },
    {
      "cell_type": "code",
      "source": [
        "import numpy as np\n",
        "import matplotlib.pyplot as plt\n",
        "\n",
        "# Generate skewed data\n",
        "data = np.random.exponential(scale=2, size=1000)\n",
        "\n",
        "# Create histogram\n",
        "plt.hist(data, bins=30)\n",
        "\n",
        "# Add title and labels\n",
        "plt.title(\"Skewed Data Histogram\")\n",
        "plt.xlabel(\"Value\")\n",
        "plt.ylabel(\"Frequency\")\n",
        "\n",
        "# Show plot\n",
        "plt.show()"
      ],
      "metadata": {
        "colab": {
          "base_uri": "https://localhost:8080/",
          "height": 472
        },
        "id": "OOx4DYTsl0--",
        "outputId": "5af775cd-f3ff-4847-bf42-1e187b33c33d"
      },
      "execution_count": 16,
      "outputs": [
        {
          "output_type": "display_data",
          "data": {
            "text/plain": [
              "<Figure size 640x480 with 1 Axes>"
            ],
            "image/png": "[encoded data removed]"
          },
          "metadata": {}
        }
      ]
    },
    {
      "cell_type": "markdown",
      "source": [
        "7)Calculate skewness and kurtosis of a dataset using Python libraries"
      ],
      "metadata": {
        "id": "gEdvXndJmSYT"
      }
    },
    {
      "cell_type": "code",
      "source": [
        "import pandas as pd\n",
        "\n",
        "data = {'Values': [88, 85, 82, 97, 67, 77, 74, 86, 81, 95, 77, 88, 85, 76, 81]}\n",
        "df = pd.DataFrame(data)\n",
        "\n",
        "df_skewness = df['Values'].skew()\n",
        "df_kurtosis = df['Values'].kurtosis()\n",
        "\n",
        "print(f\"DataFrame Skewness: {df_skewness}\")\n",
        "print(f\"DataFrame Kurtosis: {df_kurtosis}\")"
      ],
      "metadata": {
        "colab": {
          "base_uri": "https://localhost:8080/"
        },
        "id": "tycblgIOmV_N",
        "outputId": "2661857b-69c9-442c-f92f-f277ef96ba41"
      },
      "execution_count": 17,
      "outputs": [
        {
          "output_type": "stream",
          "name": "stdout",
          "text": [
            "DataFrame Skewness: 0.0326966578855933\n",
            "DataFrame Kurtosis: 0.11815715154945172\n"
          ]
        }
      ]
    },
    {
      "cell_type": "markdown",
      "source": [
        "8)Generate a dataset and demonstrate positive and negative skewness"
      ],
      "metadata": {
        "id": "scjJz1__mqfo"
      }
    },
    {
      "cell_type": "code",
      "source": [
        "import numpy as np\n",
        "import matplotlib.pyplot as plt\n",
        "from scipy.stats import skew\n",
        "\n",
        "np.random.seed(0)\n",
        "\n",
        "positive_skew = np.random.exponential(scale=2, size=1000)\n",
        "negative_skew = -np.random.exponential(scale=2, size=1000)\n",
        "\n",
        "pos_skew_val = skew(positive_skew)\n",
        "neg_skew_val = skew(negative_skew)\n",
        "\n",
        "fig, axs = plt.subplots(1, 2, figsize=(12, 5))\n",
        "\n",
        "axs[0].hist(positive_skew, bins=30, color='skyblue', edgecolor='black')\n",
        "axs[0].set_title(f'Positive Skew\\nSkewness = {pos_skew_val:.2f}')\n",
        "\n",
        "axs[1].hist(negative_skew, bins=30, color='salmon', edgecolor='black')\n",
        "axs[1].set_title(f'Negative Skew\\nSkewness = {neg_skew_val:.2f}')\n",
        "\n",
        "plt.tight_layout()\n",
        "plt.show()\n"
      ],
      "metadata": {
        "colab": {
          "base_uri": "https://localhost:8080/",
          "height": 493
        },
        "id": "fSg-_HZomuko",
        "outputId": "68154110-e72e-4732-c6bd-ba91fa4dcd6c"
      },
      "execution_count": 18,
      "outputs": [
        {
          "output_type": "display_data",
          "data": {
            "text/plain": [
              "<Figure size 1200x500 with 2 Axes>"
            ],
            "image/png": "[encoded data removed]"
          },
          "metadata": {}
        }
      ]
    },
    {
      "cell_type": "markdown",
      "source": [
        "9)Write a Python script to calculate covariance between two datasets\n"
      ],
      "metadata": {
        "id": "Cl6nspfQnOAS"
      }
    },
    {
      "cell_type": "code",
      "source": [
        "import numpy as np\n",
        "\n",
        "# Example datasets\n",
        "x = [2, 4, 6, 8, 10]\n",
        "y = [1, 3, 5, 7, 9]\n",
        "\n",
        "# Convert to NumPy arrays\n",
        "x_array = np.array(x)\n",
        "y_array = np.array(y)\n",
        "\n",
        "# Calculate covariance matrix\n",
        "cov_matrix = np.cov(x_array, y_array)\n",
        "\n",
        "# Extract the covariance value\n",
        "covariance = cov_matrix[0, 1]\n",
        "\n",
        "print(f\"Covariance between x and y: {covariance}\")\n"
      ],
      "metadata": {
        "colab": {
          "base_uri": "https://localhost:8080/"
        },
        "id": "DNQ3LVKWnUD2",
        "outputId": "a6a44640-5edf-4c2e-d984-06a9c715bd58"
      },
      "execution_count": 19,
      "outputs": [
        {
          "output_type": "stream",
          "name": "stdout",
          "text": [
            "Covariance between x and y: 10.0\n"
          ]
        }
      ]
    },
    {
      "cell_type": "markdown",
      "source": [
        "10) Write a Python script to calculate the correlation coefficient between two datasets"
      ],
      "metadata": {
        "id": "UYc-DB-CnbcZ"
      }
    },
    {
      "cell_type": "code",
      "source": [
        "import numpy as np\n",
        "\n",
        "# Example datasets\n",
        "x = [2, 4, 6, 8, 10]\n",
        "y = [1, 3, 5, 7, 9]\n",
        "\n",
        "# Convert to NumPy arrays\n",
        "x_array = np.array(x)\n",
        "y_array = np.array(y)\n",
        "\n",
        "# Calculate correlation matrix\n",
        "corr_matrix = np.corrcoef(x_array, y_array)\n",
        "\n",
        "# Extract the correlation coefficient\n",
        "correlation = corr_matrix[0, 1]\n",
        "\n",
        "print(f\"Correlation coefficient between x and y: {correlation}\")\n"
      ],
      "metadata": {
        "colab": {
          "base_uri": "https://localhost:8080/"
        },
        "id": "GwEt3k7nnZwt",
        "outputId": "9f44c10b-35bb-4436-d0f0-56c375a4856a"
      },
      "execution_count": 20,
      "outputs": [
        {
          "output_type": "stream",
          "name": "stdout",
          "text": [
            "Correlation coefficient between x and y: 0.9999999999999999\n"
          ]
        }
      ]
    },
    {
      "cell_type": "markdown",
      "source": [
        "11) Create a scatter plot to visualize the relationship between two variables"
      ],
      "metadata": {
        "id": "999Pyn8Lnk1M"
      }
    },
    {
      "cell_type": "code",
      "source": [
        "import matplotlib.pyplot as plt\n",
        "\n",
        "# Example datasets\n",
        "x = [2, 4, 6, 8, 10]\n",
        "y = [1, 3, 5, 7, 9]\n",
        "\n",
        "# Create scatter plot\n",
        "plt.scatter(x, y, color='blue', marker='o')\n",
        "\n",
        "# Add titles and labels\n",
        "plt.title('Scatter Plot of x vs y')\n",
        "plt.xlabel('x values')\n",
        "plt.ylabel('y values')\n",
        "\n",
        "# Show plot\n",
        "plt.grid(True)\n",
        "plt.show()\n"
      ],
      "metadata": {
        "colab": {
          "base_uri": "https://localhost:8080/",
          "height": 472
        },
        "id": "GlFAwS-rnoeJ",
        "outputId": "a21a615b-b0bc-4ecb-cf62-15dbb78dbbf9"
      },
      "execution_count": 21,
      "outputs": [
        {
          "output_type": "display_data",
          "data": {
            "text/plain": [
              "<Figure size 640x480 with 1 Axes>"
            ],
            "image/png": "[encoded data removed]"
          },
          "metadata": {}
        }
      ]
    },
    {
      "cell_type": "markdown",
      "source": [
        "12)Implement and compare simple random sampling and systematic sampling"
      ],
      "metadata": {
        "id": "qC2jXAo-ntvM"
      }
    },
    {
      "cell_type": "code",
      "source": [
        "import numpy as np\n",
        "import pandas as pd\n",
        "\n",
        "# Create a synthetic dataset\n",
        "population = pd.DataFrame({'ID': range(1, 101), 'Value': np.random.randint(10, 100, 100)})\n",
        "\n",
        "# Sample size\n",
        "sample_size = 10\n",
        "\n",
        "# Simple Random Sampling\n",
        "simple_random_sample = population.sample(n=sample_size, random_state=1)\n",
        "\n",
        "# Systematic Sampling\n",
        "step = len(population) // sample_size\n",
        "start = np.random.randint(0, step)\n",
        "systematic_indices = list(range(start, len(population), step))[:sample_size]\n",
        "systematic_sample = population.iloc[systematic_indices]\n",
        "\n",
        "# Display both samples\n",
        "print(\"Simple Random Sample:\")\n",
        "print(simple_random_sample)\n",
        "\n",
        "print(\"\\nSystematic Sample:\")\n",
        "print(systematic_sample)\n"
      ],
      "metadata": {
        "colab": {
          "base_uri": "https://localhost:8080/"
        },
        "id": "zO8idoMMnwRG",
        "outputId": "b9fae8a7-35c7-441b-98ac-e76dc2d8039c"
      },
      "execution_count": 22,
      "outputs": [
        {
          "output_type": "stream",
          "name": "stdout",
          "text": [
            "Simple Random Sample:\n",
            "    ID  Value\n",
            "80  81     62\n",
            "84  85     13\n",
            "33  34     15\n",
            "81  82     32\n",
            "93  94     13\n",
            "17  18     57\n",
            "36  37     75\n",
            "82  83     41\n",
            "69  70     33\n",
            "65  66     56\n",
            "\n",
            "Systematic Sample:\n",
            "    ID  Value\n",
            "4    5     31\n",
            "14  15     78\n",
            "24  25     88\n",
            "34  35     39\n",
            "44  45     64\n",
            "54  55     27\n",
            "64  65     12\n",
            "74  75     18\n",
            "84  85     13\n",
            "94  95     93\n"
          ]
        }
      ]
    },
    {
      "cell_type": "markdown",
      "source": [
        "13) Calculate the mean, median, and mode of grouped data"
      ],
      "metadata": {
        "id": "xRGjmKLDn22y"
      }
    },
    {
      "cell_type": "code",
      "source": [
        "import pandas as pd\n",
        "from scipy import stats\n",
        "\n",
        "# Define class intervals and frequencies\n",
        "class_intervals = [(0, 10), (10, 20), (20, 30), (30, 40), (40, 50)]\n",
        "frequencies = [5, 8, 15, 16, 6]\n",
        "\n",
        "# Convert to DataFrame\n",
        "df = pd.DataFrame(class_intervals, columns=['Lower', 'Upper'])\n",
        "df['Frequency'] = frequencies\n",
        "\n",
        "# Calculate class midpoints\n",
        "df['Midpoint'] = (df['Lower'] + df['Upper']) / 2\n",
        "\n",
        "# Mean\n",
        "mean = (df['Midpoint'] * df['Frequency']).sum() / df['Frequency'].sum()\n",
        "\n",
        "# Median\n",
        "cf = df['Frequency'].cumsum()\n",
        "n = df['Frequency'].sum()\n",
        "median_class_index = cf[cf >= n / 2].index[0]\n",
        "L = df.loc[median_class_index, 'Lower']\n",
        "F = df.loc[median_class_index - 1, 'Frequency'].cumsum() if median_class_index > 0 else 0\n",
        "f = df.loc[median_class_index, 'Frequency']\n",
        "h = df.loc[median_class_index, 'Upper'] - df.loc[median_class_index, 'Lower']\n",
        "median = L + ((n / 2 - cf[median_class_index - 1] if median_class_index > 0 else n/2) / f) * h\n",
        "\n",
        "# Mode\n",
        "modal_class_index = df['Frequency'].idxmax()\n",
        "L = df.loc[modal_class_index, 'Lower']\n",
        "f1 = df.loc[modal_class_index, 'Frequency']\n",
        "f0 = df.loc[modal_class_index - 1, 'Frequency'] if modal_class_index > 0 else 0\n",
        "f2 = df.loc[modal_class_index + 1, 'Frequency'] if modal_class_index < len(df) - 1 else 0\n",
        "h = df.loc[modal_class_index, 'Upper'] - df.loc[modal_class_index, 'Lower']\n",
        "mode = L + ((f1 - f0) / ((2 * f1) - f0 - f2)) * h\n",
        "\n",
        "# Results\n",
        "print(f\"Mean: {mean:.2f}\")\n",
        "print(f\"Median: {median:.2f}\")\n",
        "print(f\"Mode: {mode:.2f}\")\n"
      ],
      "metadata": {
        "colab": {
          "base_uri": "https://localhost:8080/"
        },
        "id": "wpFOJ8a-njqF",
        "outputId": "ef15f54f-8834-45c0-9a4b-6315fe0fb103"
      },
      "execution_count": 23,
      "outputs": [
        {
          "output_type": "stream",
          "name": "stdout",
          "text": [
            "Mean: 27.00\n",
            "Median: 28.00\n",
            "Mode: 30.91\n"
          ]
        }
      ]
    },
    {
      "cell_type": "markdown",
      "source": [
        "14)Simulate data using Python and calculate its central tendency and dispersion."
      ],
      "metadata": {
        "id": "vFsn30zAoIvn"
      }
    },
    {
      "cell_type": "code",
      "source": [
        "import numpy as np\n",
        "import pandas as pd\n",
        "from scipy import stats\n",
        "\n",
        "# Simulate data (e.g., 100 random values from a normal distribution)\n",
        "np.random.seed(42)\n",
        "data = np.random.normal(loc=50, scale=10, size=100)\n",
        "\n",
        "# Convert to a pandas Series\n",
        "data_series = pd.Series(data)\n",
        "\n",
        "# Central Tendency\n",
        "mean = data_series.mean()\n",
        "median = data_series.median()\n",
        "mode = data_series.mode().iloc[0]\n",
        "\n",
        "# Dispersion\n",
        "data_range = data_series.max() - data_series.min()\n",
        "variance = data_series.var()\n",
        "std_dev = data_series.std()\n",
        "\n",
        "# Output results\n",
        "print(f\"Mean: {mean:.2f}\")\n",
        "print(f\"Median: {median:.2f}\")\n",
        "print(f\"Mode: {mode:.2f}\")\n",
        "print(f\"Range: {data_range:.2f}\")\n",
        "print(f\"Variance: {variance:.2f}\")\n",
        "print(f\"Standard Deviation: {std_dev:.2f}\")\n"
      ],
      "metadata": {
        "colab": {
          "base_uri": "https://localhost:8080/"
        },
        "id": "pm80CT_joL1Z",
        "outputId": "22a9ffea-d92b-4d80-d39f-fd2ef1dc1168"
      },
      "execution_count": 24,
      "outputs": [
        {
          "output_type": "stream",
          "name": "stdout",
          "text": [
            "Mean: 48.96\n",
            "Median: 48.73\n",
            "Mode: 23.80\n",
            "Range: 44.72\n",
            "Variance: 82.48\n",
            "Standard Deviation: 9.08\n"
          ]
        }
      ]
    },
    {
      "cell_type": "markdown",
      "source": [
        "15)> Use NumPy or pandas to summarize a dataset’s descriptive statistics"
      ],
      "metadata": {
        "id": "7L8RGkkBoSG4"
      }
    },
    {
      "cell_type": "code",
      "source": [
        "import pandas as pd\n",
        "import numpy as np\n",
        "\n",
        "# Simulate a dataset\n",
        "np.random.seed(1)\n",
        "data = pd.DataFrame({\n",
        "    'Age': np.random.randint(18, 60, size=100),\n",
        "    'Income': np.random.normal(loc=50000, scale=8000, size=100),\n",
        "    'Score': np.random.uniform(0, 100, size=100)\n",
        "})\n",
        "\n",
        "# Summary statistics using pandas\n",
        "summary = data.describe()\n",
        "\n",
        "print(\"Descriptive Statistics (using pandas):\")\n",
        "print(summary)\n"
      ],
      "metadata": {
        "colab": {
          "base_uri": "https://localhost:8080/"
        },
        "id": "kH7fzgX-oU7B",
        "outputId": "efc2d840-4456-46b3-b098-7fb4c87fdea6"
      },
      "execution_count": 25,
      "outputs": [
        {
          "output_type": "stream",
          "name": "stdout",
          "text": [
            "Descriptive Statistics (using pandas):\n",
            "             Age        Income       Score\n",
            "count  100.00000    100.000000  100.000000\n",
            "mean    35.61000  49108.732995   42.041203\n",
            "std     11.58534   7614.429458   29.830758\n",
            "min     18.00000  30624.230838    0.466331\n",
            "25%     25.75000  43972.706007   16.761100\n",
            "50%     34.50000  48811.363007   38.299407\n",
            "75%     43.00000  54666.439335   68.859002\n",
            "max     59.00000  65390.655241   96.572680\n"
          ]
        }
      ]
    },
    {
      "cell_type": "markdown",
      "source": [
        "16)Plot a boxplot to understand the spread and identify outliers"
      ],
      "metadata": {
        "id": "gzGhspn5ojSA"
      }
    },
    {
      "cell_type": "code",
      "source": [
        "import numpy as np\n",
        "import pandas as pd\n",
        "import seaborn as sns\n",
        "import matplotlib.pyplot as plt\n",
        "\n",
        "# Simulate data\n",
        "np.random.seed(42)\n",
        "data = pd.DataFrame({\n",
        "    'Scores': np.random.normal(loc=70, scale=15, size=100)\n",
        "})\n",
        "\n",
        "# Add some outliers\n",
        "data.loc[95:] = [130, 135, 140, 145, 150]\n",
        "\n",
        "# Plot boxplot\n",
        "plt.figure(figsize=(8, 5))\n",
        "sns.boxplot(y='Scores', data=data, color='lightblue')\n",
        "plt.title('Boxplot of Scores')\n",
        "plt.ylabel('Score')\n",
        "plt.grid(True)\n",
        "plt.show()\n"
      ],
      "metadata": {
        "colab": {
          "base_uri": "https://localhost:8080/",
          "height": 408
        },
        "id": "Glf-YNMkoiXv",
        "outputId": "5df8d80a-0fd7-44a9-a64c-7ddd8e814a26"
      },
      "execution_count": 26,
      "outputs": [
        {
          "output_type": "error",
          "ename": "ValueError",
          "evalue": "setting an array element with a sequence.",
          "traceback": [
            "\u001b[0;31m---------------------------------------------------------------------------\u001b[0m",
            "\u001b[0;31mValueError\u001b[0m                                Traceback (most recent call last)",
            "\u001b[0;32m/usr/local/lib/python3.11/dist-packages/pandas/core/internals/blocks.py\u001b[0m in \u001b[0;36msetitem\u001b[0;34m(self, indexer, value, using_cow)\u001b[0m\n\u001b[1;32m   1428\u001b[0m             \u001b[0;32mtry\u001b[0m\u001b[0;34m:\u001b[0m\u001b[0;34m\u001b[0m\u001b[0;34m\u001b[0m\u001b[0m\n\u001b[0;32m-> 1429\u001b[0;31m                 \u001b[0mvalues\u001b[0m\u001b[0;34m[\u001b[0m\u001b[0mindexer\u001b[0m\u001b[0;34m]\u001b[0m \u001b[0;34m=\u001b[0m \u001b[0mcasted\u001b[0m\u001b[0;34m\u001b[0m\u001b[0;34m\u001b[0m\u001b[0m\n\u001b[0m\u001b[1;32m   1430\u001b[0m             \u001b[0;32mexcept\u001b[0m \u001b[0;34m(\u001b[0m\u001b[0mTypeError\u001b[0m\u001b[0;34m,\u001b[0m \u001b[0mValueError\u001b[0m\u001b[0;34m)\u001b[0m \u001b[0;32mas\u001b[0m \u001b[0merr\u001b[0m\u001b[0;34m:\u001b[0m\u001b[0;34m\u001b[0m\u001b[0;34m\u001b[0m\u001b[0m\n",
            "\u001b[0;31mValueError\u001b[0m: could not broadcast input array from shape (5,) into shape (5,1)",
            "\nThe above exception was the direct cause of the following exception:\n",
            "\u001b[0;31mValueError\u001b[0m                                Traceback (most recent call last)",
            "\u001b[0;32m/tmp/ipython-input-26-3290602457.py\u001b[0m in \u001b[0;36m<cell line: 0>\u001b[0;34m()\u001b[0m\n\u001b[1;32m     11\u001b[0m \u001b[0;34m\u001b[0m\u001b[0m\n\u001b[1;32m     12\u001b[0m \u001b[0;31m# Add some outliers\u001b[0m\u001b[0;34m\u001b[0m\u001b[0;34m\u001b[0m\u001b[0m\n\u001b[0;32m---> 13\u001b[0;31m \u001b[0mdata\u001b[0m\u001b[0;34m.\u001b[0m\u001b[0mloc\u001b[0m\u001b[0;34m[\u001b[0m\u001b[0;36m95\u001b[0m\u001b[0;34m:\u001b[0m\u001b[0;34m]\u001b[0m \u001b[0;34m=\u001b[0m \u001b[0;34m[\u001b[0m\u001b[0;36m130\u001b[0m\u001b[0;34m,\u001b[0m \u001b[0;36m135\u001b[0m\u001b[0;34m,\u001b[0m \u001b[0;36m140\u001b[0m\u001b[0;34m,\u001b[0m \u001b[0;36m145\u001b[0m\u001b[0;34m,\u001b[0m \u001b[0;36m150\u001b[0m\u001b[0;34m]\u001b[0m\u001b[0;34m\u001b[0m\u001b[0;34m\u001b[0m\u001b[0m\n\u001b[0m\u001b[1;32m     14\u001b[0m \u001b[0;34m\u001b[0m\u001b[0m\n\u001b[1;32m     15\u001b[0m \u001b[0;31m# Plot boxplot\u001b[0m\u001b[0;34m\u001b[0m\u001b[0;34m\u001b[0m\u001b[0m\n",
            "\u001b[0;32m/usr/local/lib/python3.11/dist-packages/pandas/core/indexing.py\u001b[0m in \u001b[0;36m__setitem__\u001b[0;34m(self, key, value)\u001b[0m\n\u001b[1;32m    909\u001b[0m \u001b[0;34m\u001b[0m\u001b[0m\n\u001b[1;32m    910\u001b[0m         \u001b[0miloc\u001b[0m \u001b[0;34m=\u001b[0m \u001b[0mself\u001b[0m \u001b[0;32mif\u001b[0m \u001b[0mself\u001b[0m\u001b[0;34m.\u001b[0m\u001b[0mname\u001b[0m \u001b[0;34m==\u001b[0m \u001b[0;34m\"iloc\"\u001b[0m \u001b[0;32melse\u001b[0m \u001b[0mself\u001b[0m\u001b[0;34m.\u001b[0m\u001b[0mobj\u001b[0m\u001b[0;34m.\u001b[0m\u001b[0miloc\u001b[0m\u001b[0;34m\u001b[0m\u001b[0;34m\u001b[0m\u001b[0m\n\u001b[0;32m--> 911\u001b[0;31m         \u001b[0miloc\u001b[0m\u001b[0;34m.\u001b[0m\u001b[0m_setitem_with_indexer\u001b[0m\u001b[0;34m(\u001b[0m\u001b[0mindexer\u001b[0m\u001b[0;34m,\u001b[0m \u001b[0mvalue\u001b[0m\u001b[0;34m,\u001b[0m \u001b[0mself\u001b[0m\u001b[0;34m.\u001b[0m\u001b[0mname\u001b[0m\u001b[0;34m)\u001b[0m\u001b[0;34m\u001b[0m\u001b[0;34m\u001b[0m\u001b[0m\n\u001b[0m\u001b[1;32m    912\u001b[0m \u001b[0;34m\u001b[0m\u001b[0m\n\u001b[1;32m    913\u001b[0m     \u001b[0;32mdef\u001b[0m \u001b[0m_validate_key\u001b[0m\u001b[0;34m(\u001b[0m\u001b[0mself\u001b[0m\u001b[0;34m,\u001b[0m \u001b[0mkey\u001b[0m\u001b[0;34m,\u001b[0m \u001b[0maxis\u001b[0m\u001b[0;34m:\u001b[0m \u001b[0mAxisInt\u001b[0m\u001b[0;34m)\u001b[0m\u001b[0;34m:\u001b[0m\u001b[0;34m\u001b[0m\u001b[0;34m\u001b[0m\u001b[0m\n",
            "\u001b[0;32m/usr/local/lib/python3.11/dist-packages/pandas/core/indexing.py\u001b[0m in \u001b[0;36m_setitem_with_indexer\u001b[0;34m(self, indexer, value, name)\u001b[0m\n\u001b[1;32m   1942\u001b[0m             \u001b[0mself\u001b[0m\u001b[0;34m.\u001b[0m\u001b[0m_setitem_with_indexer_split_path\u001b[0m\u001b[0;34m(\u001b[0m\u001b[0mindexer\u001b[0m\u001b[0;34m,\u001b[0m \u001b[0mvalue\u001b[0m\u001b[0;34m,\u001b[0m \u001b[0mname\u001b[0m\u001b[0;34m)\u001b[0m\u001b[0;34m\u001b[0m\u001b[0;34m\u001b[0m\u001b[0m\n\u001b[1;32m   1943\u001b[0m         \u001b[0;32melse\u001b[0m\u001b[0;34m:\u001b[0m\u001b[0;34m\u001b[0m\u001b[0;34m\u001b[0m\u001b[0m\n\u001b[0;32m-> 1944\u001b[0;31m             \u001b[0mself\u001b[0m\u001b[0;34m.\u001b[0m\u001b[0m_setitem_single_block\u001b[0m\u001b[0;34m(\u001b[0m\u001b[0mindexer\u001b[0m\u001b[0;34m,\u001b[0m \u001b[0mvalue\u001b[0m\u001b[0;34m,\u001b[0m \u001b[0mname\u001b[0m\u001b[0;34m)\u001b[0m\u001b[0;34m\u001b[0m\u001b[0;34m\u001b[0m\u001b[0m\n\u001b[0m\u001b[1;32m   1945\u001b[0m \u001b[0;34m\u001b[0m\u001b[0m\n\u001b[1;32m   1946\u001b[0m     \u001b[0;32mdef\u001b[0m \u001b[0m_setitem_with_indexer_split_path\u001b[0m\u001b[0;34m(\u001b[0m\u001b[0mself\u001b[0m\u001b[0;34m,\u001b[0m \u001b[0mindexer\u001b[0m\u001b[0;34m,\u001b[0m \u001b[0mvalue\u001b[0m\u001b[0;34m,\u001b[0m \u001b[0mname\u001b[0m\u001b[0;34m:\u001b[0m \u001b[0mstr\u001b[0m\u001b[0;34m)\u001b[0m\u001b[0;34m:\u001b[0m\u001b[0;34m\u001b[0m\u001b[0;34m\u001b[0m\u001b[0m\n",
            "\u001b[0;32m/usr/local/lib/python3.11/dist-packages/pandas/core/indexing.py\u001b[0m in \u001b[0;36m_setitem_single_block\u001b[0;34m(self, indexer, value, name)\u001b[0m\n\u001b[1;32m   2216\u001b[0m \u001b[0;34m\u001b[0m\u001b[0m\n\u001b[1;32m   2217\u001b[0m         \u001b[0;31m# actually do the set\u001b[0m\u001b[0;34m\u001b[0m\u001b[0;34m\u001b[0m\u001b[0m\n\u001b[0;32m-> 2218\u001b[0;31m         \u001b[0mself\u001b[0m\u001b[0;34m.\u001b[0m\u001b[0mobj\u001b[0m\u001b[0;34m.\u001b[0m\u001b[0m_mgr\u001b[0m \u001b[0;34m=\u001b[0m \u001b[0mself\u001b[0m\u001b[0;34m.\u001b[0m\u001b[0mobj\u001b[0m\u001b[0;34m.\u001b[0m\u001b[0m_mgr\u001b[0m\u001b[0;34m.\u001b[0m\u001b[0msetitem\u001b[0m\u001b[0;34m(\u001b[0m\u001b[0mindexer\u001b[0m\u001b[0;34m=\u001b[0m\u001b[0mindexer\u001b[0m\u001b[0;34m,\u001b[0m \u001b[0mvalue\u001b[0m\u001b[0;34m=\u001b[0m\u001b[0mvalue\u001b[0m\u001b[0;34m)\u001b[0m\u001b[0;34m\u001b[0m\u001b[0;34m\u001b[0m\u001b[0m\n\u001b[0m\u001b[1;32m   2219\u001b[0m         \u001b[0mself\u001b[0m\u001b[0;34m.\u001b[0m\u001b[0mobj\u001b[0m\u001b[0;34m.\u001b[0m\u001b[0m_maybe_update_cacher\u001b[0m\u001b[0;34m(\u001b[0m\u001b[0mclear\u001b[0m\u001b[0;34m=\u001b[0m\u001b[0;32mTrue\u001b[0m\u001b[0;34m,\u001b[0m \u001b[0minplace\u001b[0m\u001b[0;34m=\u001b[0m\u001b[0;32mTrue\u001b[0m\u001b[0;34m)\u001b[0m\u001b[0;34m\u001b[0m\u001b[0;34m\u001b[0m\u001b[0m\n\u001b[1;32m   2220\u001b[0m \u001b[0;34m\u001b[0m\u001b[0m\n",
            "\u001b[0;32m/usr/local/lib/python3.11/dist-packages/pandas/core/internals/managers.py\u001b[0m in \u001b[0;36msetitem\u001b[0;34m(self, indexer, value, warn)\u001b[0m\n\u001b[1;32m    413\u001b[0m             \u001b[0mself\u001b[0m \u001b[0;34m=\u001b[0m \u001b[0mself\u001b[0m\u001b[0;34m.\u001b[0m\u001b[0mcopy\u001b[0m\u001b[0;34m(\u001b[0m\u001b[0;34m)\u001b[0m\u001b[0;34m\u001b[0m\u001b[0;34m\u001b[0m\u001b[0m\n\u001b[1;32m    414\u001b[0m \u001b[0;34m\u001b[0m\u001b[0m\n\u001b[0;32m--> 415\u001b[0;31m         \u001b[0;32mreturn\u001b[0m \u001b[0mself\u001b[0m\u001b[0;34m.\u001b[0m\u001b[0mapply\u001b[0m\u001b[0;34m(\u001b[0m\u001b[0;34m\"setitem\"\u001b[0m\u001b[0;34m,\u001b[0m \u001b[0mindexer\u001b[0m\u001b[0;34m=\u001b[0m\u001b[0mindexer\u001b[0m\u001b[0;34m,\u001b[0m \u001b[0mvalue\u001b[0m\u001b[0;34m=\u001b[0m\u001b[0mvalue\u001b[0m\u001b[0;34m)\u001b[0m\u001b[0;34m\u001b[0m\u001b[0;34m\u001b[0m\u001b[0m\n\u001b[0m\u001b[1;32m    416\u001b[0m \u001b[0;34m\u001b[0m\u001b[0m\n\u001b[1;32m    417\u001b[0m     \u001b[0;32mdef\u001b[0m \u001b[0mdiff\u001b[0m\u001b[0;34m(\u001b[0m\u001b[0mself\u001b[0m\u001b[0;34m,\u001b[0m \u001b[0mn\u001b[0m\u001b[0;34m:\u001b[0m \u001b[0mint\u001b[0m\u001b[0;34m)\u001b[0m \u001b[0;34m->\u001b[0m \u001b[0mSelf\u001b[0m\u001b[0;34m:\u001b[0m\u001b[0;34m\u001b[0m\u001b[0;34m\u001b[0m\u001b[0m\n",
            "\u001b[0;32m/usr/local/lib/python3.11/dist-packages/pandas/core/internals/managers.py\u001b[0m in \u001b[0;36mapply\u001b[0;34m(self, f, align_keys, **kwargs)\u001b[0m\n\u001b[1;32m    361\u001b[0m                 \u001b[0mapplied\u001b[0m \u001b[0;34m=\u001b[0m \u001b[0mb\u001b[0m\u001b[0;34m.\u001b[0m\u001b[0mapply\u001b[0m\u001b[0;34m(\u001b[0m\u001b[0mf\u001b[0m\u001b[0;34m,\u001b[0m \u001b[0;34m**\u001b[0m\u001b[0mkwargs\u001b[0m\u001b[0;34m)\u001b[0m\u001b[0;34m\u001b[0m\u001b[0;34m\u001b[0m\u001b[0m\n\u001b[1;32m    362\u001b[0m             \u001b[0;32melse\u001b[0m\u001b[0;34m:\u001b[0m\u001b[0;34m\u001b[0m\u001b[0;34m\u001b[0m\u001b[0m\n\u001b[0;32m--> 363\u001b[0;31m                 \u001b[0mapplied\u001b[0m \u001b[0;34m=\u001b[0m \u001b[0mgetattr\u001b[0m\u001b[0;34m(\u001b[0m\u001b[0mb\u001b[0m\u001b[0;34m,\u001b[0m \u001b[0mf\u001b[0m\u001b[0;34m)\u001b[0m\u001b[0;34m(\u001b[0m\u001b[0;34m**\u001b[0m\u001b[0mkwargs\u001b[0m\u001b[0;34m)\u001b[0m\u001b[0;34m\u001b[0m\u001b[0;34m\u001b[0m\u001b[0m\n\u001b[0m\u001b[1;32m    364\u001b[0m             \u001b[0mresult_blocks\u001b[0m \u001b[0;34m=\u001b[0m \u001b[0mextend_blocks\u001b[0m\u001b[0;34m(\u001b[0m\u001b[0mapplied\u001b[0m\u001b[0;34m,\u001b[0m \u001b[0mresult_blocks\u001b[0m\u001b[0;34m)\u001b[0m\u001b[0;34m\u001b[0m\u001b[0;34m\u001b[0m\u001b[0m\n\u001b[1;32m    365\u001b[0m \u001b[0;34m\u001b[0m\u001b[0m\n",
            "\u001b[0;32m/usr/local/lib/python3.11/dist-packages/pandas/core/internals/blocks.py\u001b[0m in \u001b[0;36msetitem\u001b[0;34m(self, indexer, value, using_cow)\u001b[0m\n\u001b[1;32m   1430\u001b[0m             \u001b[0;32mexcept\u001b[0m \u001b[0;34m(\u001b[0m\u001b[0mTypeError\u001b[0m\u001b[0;34m,\u001b[0m \u001b[0mValueError\u001b[0m\u001b[0;34m)\u001b[0m \u001b[0;32mas\u001b[0m \u001b[0merr\u001b[0m\u001b[0;34m:\u001b[0m\u001b[0;34m\u001b[0m\u001b[0;34m\u001b[0m\u001b[0m\n\u001b[1;32m   1431\u001b[0m                 \u001b[0;32mif\u001b[0m \u001b[0mis_list_like\u001b[0m\u001b[0;34m(\u001b[0m\u001b[0mcasted\u001b[0m\u001b[0;34m)\u001b[0m\u001b[0;34m:\u001b[0m\u001b[0;34m\u001b[0m\u001b[0;34m\u001b[0m\u001b[0m\n\u001b[0;32m-> 1432\u001b[0;31m                     raise ValueError(\n\u001b[0m\u001b[1;32m   1433\u001b[0m                         \u001b[0;34m\"setting an array element with a sequence.\"\u001b[0m\u001b[0;34m\u001b[0m\u001b[0;34m\u001b[0m\u001b[0m\n\u001b[1;32m   1434\u001b[0m                     ) from err\n",
            "\u001b[0;31mValueError\u001b[0m: setting an array element with a sequence."
          ]
        }
      ]
    },
    {
      "cell_type": "markdown",
      "source": [
        "17)Calculate the interquartile range (IQR) of a dataset"
      ],
      "metadata": {
        "id": "jTr_8jnGopWw"
      }
    },
    {
      "cell_type": "code",
      "source": [
        "import numpy as np\n",
        "import pandas as pd\n",
        "\n",
        "# Simulate dataset\n",
        "np.random.seed(0)\n",
        "data = pd.Series(np.random.normal(loc=50, scale=10, size=100))\n",
        "\n",
        "# Calculate Q1 (25th percentile) and Q3 (75th percentile)\n",
        "Q1 = data.quantile(0.25)\n",
        "Q3 = data.quantile(0.75)\n",
        "\n",
        "# Calculate IQR\n",
        "IQR = Q3 - Q1\n",
        "\n",
        "# Output\n",
        "print(f\"Q1 (25th percentile): {Q1:.2f}\")\n",
        "print(f\"Q3 (75th percentile): {Q3:.2f}\")\n",
        "print(f\"Interquartile Range (IQR): {IQR:.2f}\")\n"
      ],
      "metadata": {
        "colab": {
          "base_uri": "https://localhost:8080/"
        },
        "id": "reUp0Kr8ozIx",
        "outputId": "b2c65bbc-dfc8-4196-d78b-6ff1e0293344"
      },
      "execution_count": 27,
      "outputs": [
        {
          "output_type": "stream",
          "name": "stdout",
          "text": [
            "Q1 (25th percentile): 43.56\n",
            "Q3 (75th percentile): 57.37\n",
            "Interquartile Range (IQR): 13.81\n"
          ]
        }
      ]
    },
    {
      "cell_type": "markdown",
      "source": [
        "18)> Implement Z-score normalization and explain its significance"
      ],
      "metadata": {
        "id": "TaQSnL41ozl1"
      }
    },
    {
      "cell_type": "code",
      "source": [
        "import numpy as np\n",
        "import pandas as pd\n",
        "\n",
        "# Sample data\n",
        "data = pd.Series([10, 20, 30, 40, 50, 60, 70])\n",
        "\n",
        "# Calculate mean and standard deviation\n",
        "mean = data.mean()\n",
        "std = data.std()\n",
        "\n",
        "# Z-score normalization\n",
        "z_scores = (data - mean) / std\n",
        "\n",
        "print(\"Original data:\")\n",
        "print(data.values)\n",
        "print(\"\\nZ-score normalized data:\")\n",
        "print(z_scores.values)\n"
      ],
      "metadata": {
        "colab": {
          "base_uri": "https://localhost:8080/"
        },
        "id": "ODodYeipo4eA",
        "outputId": "b67cea30-f557-41b2-a15a-30324e594220"
      },
      "execution_count": 28,
      "outputs": [
        {
          "output_type": "stream",
          "name": "stdout",
          "text": [
            "Original data:\n",
            "[10 20 30 40 50 60 70]\n",
            "\n",
            "Z-score normalized data:\n",
            "[-1.38873015 -0.9258201  -0.46291005  0.          0.46291005  0.9258201\n",
            "  1.38873015]\n"
          ]
        }
      ]
    },
    {
      "cell_type": "markdown",
      "source": [
        "19)Compare two datasets using their standard deviations"
      ],
      "metadata": {
        "id": "6e-VoQ5Wo7DT"
      }
    },
    {
      "cell_type": "code",
      "source": [
        "import numpy as np\n",
        "\n",
        "# Example datasets\n",
        "data1 = [10, 20, 30, 40, 50]\n",
        "data2 = [12, 15, 18, 21, 24]\n",
        "\n",
        "# Calculate standard deviations (sample std dev)\n",
        "std1 = np.std(data1, ddof=1)\n",
        "std2 = np.std(data2, ddof=1)\n",
        "\n",
        "print(f\"Standard Deviation of dataset 1: {std1:.2f}\")\n",
        "print(f\"Standard Deviation of dataset 2: {std2:.2f}\")\n",
        "\n",
        "if std1 > std2:\n",
        "    print(\"Dataset 1 is more spread out (greater variability).\")\n",
        "elif std1 < std2:\n",
        "    print(\"Dataset 2 is more spread out (greater variability).\")\n",
        "else:\n",
        "    print(\"Both datasets have the same variability.\")\n"
      ],
      "metadata": {
        "colab": {
          "base_uri": "https://localhost:8080/"
        },
        "id": "4oF_uBpLo9Eb",
        "outputId": "fdbf6dd2-7487-45a2-8296-ce0367fa994f"
      },
      "execution_count": 29,
      "outputs": [
        {
          "output_type": "stream",
          "name": "stdout",
          "text": [
            "Standard Deviation of dataset 1: 15.81\n",
            "Standard Deviation of dataset 2: 4.74\n",
            "Dataset 1 is more spread out (greater variability).\n"
          ]
        }
      ]
    },
    {
      "cell_type": "markdown",
      "source": [
        "20)Write a Python program to visualize covariance using a heatmap"
      ],
      "metadata": {
        "id": "99hfa9sQpC-I"
      }
    },
    {
      "cell_type": "code",
      "source": [
        "import numpy as np\n",
        "import pandas as pd\n",
        "import seaborn as sns\n",
        "import matplotlib.pyplot as plt\n",
        "\n",
        "# Simulate sample data\n",
        "np.random.seed(0)\n",
        "data = pd.DataFrame({\n",
        "    'X': np.random.normal(0, 1, 100),\n",
        "    'Y': np.random.normal(5, 2, 100),\n",
        "    'Z': np.random.normal(-2, 5, 100)\n",
        "})\n",
        "\n",
        "# Calculate covariance matrix\n",
        "cov_matrix = data.cov()\n",
        "\n",
        "# Plot heatmap\n",
        "plt.figure(figsize=(6, 4))\n",
        "sns.heatmap(cov_matrix, annot=True, cmap='coolwarm', fmt=\".2f\")\n",
        "plt.title('Covariance Heatmap')\n",
        "plt.show()\n"
      ],
      "metadata": {
        "colab": {
          "base_uri": "https://localhost:8080/",
          "height": 391
        },
        "id": "FhAZ3gi6pBs_",
        "outputId": "2b8bce06-1d71-41cc-cbbe-d17cc1b4e6b9"
      },
      "execution_count": 30,
      "outputs": [
        {
          "output_type": "display_data",
          "data": {
            "text/plain": [
              "<Figure size 600x400 with 2 Axes>"
            ],
            "image/png": "[encoded data removed]"
          },
          "metadata": {}
        }
      ]
    },
    {
      "cell_type": "markdown",
      "source": [
        "21)Use seaborn to create a correlation matrix for a dataset"
      ],
      "metadata": {
        "id": "_UbWGW4upGRq"
      }
    },
    {
      "cell_type": "code",
      "source": [
        "import numpy as np\n",
        "import pandas as pd\n",
        "import seaborn as sns\n",
        "import matplotlib.pyplot as plt\n",
        "\n",
        "# Simulate sample data\n",
        "np.random.seed(42)\n",
        "data = pd.DataFrame({\n",
        "    'Height': np.random.normal(170, 10, 100),\n",
        "    'Weight': np.random.normal(65, 15, 100),\n",
        "    'Age': np.random.randint(18, 60, 100),\n",
        "    'Score': np.random.uniform(0, 100, 100)\n",
        "})\n",
        "\n",
        "# Calculate correlation matrix\n",
        "corr_matrix = data.corr()\n",
        "\n",
        "# Plot correlation heatmap\n",
        "plt.figure(figsize=(8, 6))\n",
        "sns.heatmap(corr_matrix, annot=True, cmap='coolwarm', fmt=\".2f\", linewidths=0.5)\n",
        "plt.title('Correlation Matrix Heatmap')\n",
        "plt.show()\n"
      ],
      "metadata": {
        "colab": {
          "base_uri": "https://localhost:8080/",
          "height": 545
        },
        "id": "QlpNYtl1pLaz",
        "outputId": "79014cca-d3c6-45eb-e325-cfefa2142498"
      },
      "execution_count": 31,
      "outputs": [
        {
          "output_type": "display_data",
          "data": {
            "text/plain": [
              "<Figure size 800x600 with 2 Axes>"
            ],
            "image/png": "[encoded data removed]"
          },
          "metadata": {}
        }
      ]
    },
    {
      "cell_type": "markdown",
      "source": [
        "22)> Generate a dataset and implement both variance and standard deviation computations"
      ],
      "metadata": {
        "id": "At6NeYY_pR-Z"
      }
    },
    {
      "cell_type": "code",
      "source": [
        "import numpy as np\n",
        "\n",
        "# Generate a dataset of 50 random numbers from a normal distribution\n",
        "np.random.seed(123)\n",
        "data = np.random.normal(loc=100, scale=15, size=50)\n",
        "\n",
        "# Calculate variance (sample variance)\n",
        "variance = np.var(data, ddof=1)\n",
        "\n",
        "# Calculate standard deviation (sample std dev)\n",
        "std_deviation = np.std(data, ddof=1)\n",
        "\n",
        "print(f\"Variance: {variance:.2f}\")\n",
        "print(f\"Standard Deviation: {std_deviation:.2f}\")\n"
      ],
      "metadata": {
        "colab": {
          "base_uri": "https://localhost:8080/"
        },
        "id": "IB2AYF3RpQx0",
        "outputId": "49577b78-7a15-453a-9e53-e7a24d487028"
      },
      "execution_count": 32,
      "outputs": [
        {
          "output_type": "stream",
          "name": "stdout",
          "text": [
            "Variance: 324.92\n",
            "Standard Deviation: 18.03\n"
          ]
        }
      ]
    },
    {
      "cell_type": "markdown",
      "source": [
        "23)Visualize skewness and kurtosis using Python libraries like matplotlib or seaborn"
      ],
      "metadata": {
        "id": "7XBt_kHGpVbK"
      }
    },
    {
      "cell_type": "code",
      "source": [
        "import numpy as np\n",
        "import seaborn as sns\n",
        "import matplotlib.pyplot as plt\n",
        "from scipy.stats import skew, kurtosis\n",
        "\n",
        "np.random.seed(42)\n",
        "\n",
        "# Generate data with positive skew (exponential)\n",
        "data_pos_skew = np.random.exponential(scale=2, size=1000)\n",
        "\n",
        "# Generate data with negative skew (negated exponential)\n",
        "data_neg_skew = -np.random.exponential(scale=2, size=1000)\n",
        "\n",
        "fig, axes = plt.subplots(1, 2, figsize=(14, 5))\n",
        "\n",
        "# Plot histogram + KDE for positive skew data\n",
        "sns.histplot(data_pos_skew, kde=True, color='skyblue', ax=axes[0])\n",
        "axes[0].set_title(f'Positive Skew\\nSkewness={skew(data_pos_skew):.2f}, Kurtosis={kurtosis(data_pos_skew):.2f}')\n",
        "\n",
        "# Plot histogram + KDE for negative skew data\n",
        "sns.histplot(data_neg_skew, kde=True, color='salmon', ax=axes[1])\n",
        "axes[1].set_title(f'Negative Skew\\nSkewness={skew(data_neg_skew):.2f}, Kurtosis={kurtosis(data_neg_skew):.2f}')\n",
        "\n",
        "plt.tight_layout()\n",
        "plt.show()\n"
      ],
      "metadata": {
        "colab": {
          "base_uri": "https://localhost:8080/",
          "height": 424
        },
        "id": "I5y7MazipasO",
        "outputId": "f8602cd8-9e58-4350-8f2c-099c31bf209e"
      },
      "execution_count": 33,
      "outputs": [
        {
          "output_type": "display_data",
          "data": {
            "text/plain": [
              "<Figure size 1400x500 with 2 Axes>"
            ],
            "image/png": "[encoded data removed]"
          },
          "metadata": {}
        }
      ]
    },
    {
      "cell_type": "markdown",
      "source": [
        "24) Implement the Pearson and Spearman correlation coefficients for a dataset"
      ],
      "metadata": {
        "id": "-_b68lLppbX6"
      }
    },
    {
      "cell_type": "code",
      "source": [
        "import numpy as np\n",
        "from scipy.stats import pearsonr, spearmanr\n",
        "\n",
        "# Sample data\n",
        "x = np.array([10, 20, 30, 40, 50])\n",
        "y = np.array([12, 24, 33, 47, 52])\n",
        "\n",
        "# Calculate Pearson correlation coefficient and p-value\n",
        "pearson_corr, pearson_p = pearsonr(x, y)\n",
        "\n",
        "# Calculate Spearman correlation coefficient and p-value\n",
        "spearman_corr, spearman_p = spearmanr(x, y)\n",
        "\n",
        "print(f\"Pearson correlation: {pearson_corr:.3f} (p-value: {pearson_p:.3f})\")\n",
        "print(f\"Spearman correlation: {spearman_corr:.3f} (p-value: {spearman_p:.3f})\")\n"
      ],
      "metadata": {
        "colab": {
          "base_uri": "https://localhost:8080/"
        },
        "id": "ZDlErlnzpkoT",
        "outputId": "cf3a2da1-2f57-42a8-c5ec-2256f477cd54"
      },
      "execution_count": 34,
      "outputs": [
        {
          "output_type": "stream",
          "name": "stdout",
          "text": [
            "Pearson correlation: 0.992 (p-value: 0.001)\n",
            "Spearman correlation: 1.000 (p-value: 0.000)\n"
          ]
        }
      ]
    },
    {
      "cell_type": "code",
      "source": [],
      "metadata": {
        "id": "Af7WOUg2ppfy"
      },
      "execution_count": null,
      "outputs": []
    }
  ]
}